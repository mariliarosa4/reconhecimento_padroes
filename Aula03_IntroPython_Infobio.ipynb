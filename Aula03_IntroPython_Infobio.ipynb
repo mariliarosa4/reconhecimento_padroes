{
 "cells": [
  {
   "cell_type": "markdown",
   "metadata": {},
   "source": [
    "# Introdução à Programação Python\n",
    "## Informática Biomédica - UFCSPA\n",
    "## Profa. Ana Trindade Winck \n",
    "\n",
    "#### 13 de Março de 2018"
   ]
  },
  {
   "cell_type": "markdown",
   "metadata": {},
   "source": [
    "# Introdução à Programação Python\n",
    "## Informática Biomédica - UFCSPA\n",
    "## Profa. Ana Trindade Winck \n",
    "\n",
    "#### Estruturas de controle e repetição\n",
    "\n",
    "\n",
    "#### 13 de Março de 2018\n",
    "\n",
    "Materiais retirados ou adaptados de Menezes, N.N.C. \"Introdução à Programação com Python: algoritmos e lógica de programação para iniciantes\". Novactec, 2014.\n",
    "\n",
    "Códigos em python 3\n",
    "\n",
    "![pythonlists](https://s3-us-west-2.amazonaws.com/devcodepro/media/tutorials/listas-python-t1.jpg)\n"
   ]
  },
  {
   "cell_type": "markdown",
   "metadata": {},
   "source": [
    "### Cria listas\n",
    "#### Vazias ou com conteúdo"
   ]
  },
  {
   "cell_type": "markdown",
   "metadata": {},
   "source": [
    "### Acessa listass"
   ]
  },
  {
   "cell_type": "code",
   "execution_count": null,
   "metadata": {
    "collapsed": true
   },
   "outputs": [],
   "source": [
    "L = []\n",
    "Z = [15, 8, 9]"
   ]
  },
  {
   "cell_type": "code",
   "execution_count": null,
   "metadata": {},
   "outputs": [],
   "source": [
    "print(Z[0])\n",
    "print(Z[2])"
   ]
  },
  {
   "cell_type": "markdown",
   "metadata": {},
   "source": [
    "## Exercício:\n",
    "### Crie uma lista de notas, contendo as notas 6, 7, 5, 8 e 9 e calcule a média das notas"
   ]
  },
  {
   "cell_type": "code",
   "execution_count": null,
   "metadata": {},
   "outputs": [],
   "source": [
    "notas = [6, 7, 5, 8, 9]\n",
    "soma = 0\n",
    "for i in range(0,5):\n",
    "    soma += notas[i]\n",
    "media = soma/5\n",
    "print(media)"
   ]
  },
  {
   "cell_type": "markdown",
   "metadata": {},
   "source": [
    "### Criando lista com input"
   ]
  },
  {
   "cell_type": "code",
   "execution_count": null,
   "metadata": {},
   "outputs": [],
   "source": [
    "numeros = [0,0,0,0,0]\n",
    "for i in range(0,5):\n",
    "    numeros[i] = int(input(\"Numero %d: \" % (i+1)))\n",
    "print(numeros)"
   ]
  },
  {
   "cell_type": "markdown",
   "metadata": {},
   "source": [
    "### Cópia de Listas"
   ]
  },
  {
   "cell_type": "code",
   "execution_count": null,
   "metadata": {},
   "outputs": [],
   "source": [
    "L = [1, 2, 3, 4, 5]\n",
    "print(L)"
   ]
  },
  {
   "cell_type": "code",
   "execution_count": null,
   "metadata": {},
   "outputs": [],
   "source": [
    "V = L\n",
    "print(V)"
   ]
  },
  {
   "cell_type": "code",
   "execution_count": null,
   "metadata": {
    "collapsed": true
   },
   "outputs": [],
   "source": [
    "V[0] = 6"
   ]
  },
  {
   "cell_type": "code",
   "execution_count": null,
   "metadata": {},
   "outputs": [],
   "source": [
    "print(L)"
   ]
  },
  {
   "cell_type": "code",
   "execution_count": null,
   "metadata": {},
   "outputs": [],
   "source": [
    "L[0:5]"
   ]
  },
  {
   "cell_type": "code",
   "execution_count": null,
   "metadata": {},
   "outputs": [],
   "source": [
    "L[:5]"
   ]
  },
  {
   "cell_type": "code",
   "execution_count": null,
   "metadata": {},
   "outputs": [],
   "source": [
    "L[:-1]"
   ]
  },
  {
   "cell_type": "code",
   "execution_count": null,
   "metadata": {},
   "outputs": [],
   "source": [
    "L[1:3]"
   ]
  },
  {
   "cell_type": "code",
   "execution_count": null,
   "metadata": {},
   "outputs": [],
   "source": [
    "L[3:]"
   ]
  },
  {
   "cell_type": "code",
   "execution_count": null,
   "metadata": {},
   "outputs": [],
   "source": [
    "L[:3]"
   ]
  },
  {
   "cell_type": "code",
   "execution_count": null,
   "metadata": {},
   "outputs": [],
   "source": [
    "L[-1]"
   ]
  },
  {
   "cell_type": "code",
   "execution_count": null,
   "metadata": {},
   "outputs": [],
   "source": [
    "L[-2]"
   ]
  },
  {
   "cell_type": "markdown",
   "metadata": {},
   "source": [
    "## Tamanho da Lista"
   ]
  },
  {
   "cell_type": "code",
   "execution_count": null,
   "metadata": {},
   "outputs": [],
   "source": [
    "len(L)"
   ]
  },
  {
   "cell_type": "code",
   "execution_count": null,
   "metadata": {},
   "outputs": [],
   "source": [
    "V = []\n",
    "len(V)"
   ]
  },
  {
   "cell_type": "markdown",
   "metadata": {},
   "source": [
    "### Repetição com tamanho da lista"
   ]
  },
  {
   "cell_type": "code",
   "execution_count": 1,
   "metadata": {},
   "outputs": [
    {
     "name": "stdout",
     "output_type": "stream",
     "text": [
      "1\n",
      "2\n",
      "3\n"
     ]
    }
   ],
   "source": [
    "L = [1, 2, 3]\n",
    "x=0\n",
    "while x < len(L):\n",
    "    print(L[x])\n",
    "    x+=1"
   ]
  },
  {
   "cell_type": "code",
   "execution_count": null,
   "metadata": {},
   "outputs": [],
   "source": [
    "L = [7, 8, 9, 10, 11, 12]\n",
    "x=0\n",
    "while x < len(L):\n",
    "    print(L[x])\n",
    "    x+=1"
   ]
  },
  {
   "cell_type": "markdown",
   "metadata": {},
   "source": [
    "## Adição de Elementos"
   ]
  },
  {
   "cell_type": "code",
   "execution_count": null,
   "metadata": {
    "collapsed": true
   },
   "outputs": [],
   "source": [
    "L = []"
   ]
  },
  {
   "cell_type": "code",
   "execution_count": null,
   "metadata": {},
   "outputs": [],
   "source": [
    "L.append(\"a\")\n",
    "L"
   ]
  },
  {
   "cell_type": "code",
   "execution_count": null,
   "metadata": {},
   "outputs": [],
   "source": [
    "L.append(\"b\")\n",
    "L"
   ]
  },
  {
   "cell_type": "code",
   "execution_count": null,
   "metadata": {},
   "outputs": [],
   "source": [
    "L.append(\"c\")\n",
    "print(L)\n",
    "print(len(L))"
   ]
  },
  {
   "cell_type": "markdown",
   "metadata": {},
   "source": [
    "### Faça um programa que leia números, até que 0 seja digitado.\n",
    "### Alimente os números lidos em uma lista, sem incluir o 0\n",
    "### Ao final, imprima todos os elementos da lista"
   ]
  },
  {
   "cell_type": "code",
   "execution_count": null,
   "metadata": {},
   "outputs": [],
   "source": [
    "L = []\n",
    "while True:\n",
    "    n=int(input(\"Digite um numero (0 para sair): \"))\n",
    "    if n == 0:\n",
    "        break\n",
    "    L.append(n)\n",
    "x=0\n",
    "while x < len(L):\n",
    "    print(L[x])\n",
    "    x+=1"
   ]
  },
  {
   "cell_type": "markdown",
   "metadata": {},
   "source": [
    "### Adição de Listas"
   ]
  },
  {
   "cell_type": "code",
   "execution_count": null,
   "metadata": {},
   "outputs": [],
   "source": [
    "L = []\n",
    "L = L+[1]\n",
    "L"
   ]
  },
  {
   "cell_type": "code",
   "execution_count": null,
   "metadata": {},
   "outputs": [],
   "source": [
    "L = L+[2]\n",
    "L"
   ]
  },
  {
   "cell_type": "code",
   "execution_count": null,
   "metadata": {},
   "outputs": [],
   "source": [
    "L+=[3,4,5]\n",
    "L"
   ]
  },
  {
   "cell_type": "markdown",
   "metadata": {},
   "source": [
    "### Adição de elementos e listas"
   ]
  },
  {
   "cell_type": "code",
   "execution_count": null,
   "metadata": {},
   "outputs": [],
   "source": [
    "L=[\"a\"]\n",
    "L.append(\"b\")\n",
    "L"
   ]
  },
  {
   "cell_type": "code",
   "execution_count": null,
   "metadata": {},
   "outputs": [],
   "source": [
    "L.extend([\"c\"])\n",
    "L"
   ]
  },
  {
   "cell_type": "markdown",
   "metadata": {},
   "source": [
    "# Exercicios\n",
    "## 1. Faça um programa que leia duas listas e que gere uma terceira com os elementos das duas primeiras\n",
    "## 2. Faça um programa que percorra duas listas e gere uma terceira sem elementos repetidos"
   ]
  },
  {
   "cell_type": "code",
   "execution_count": null,
   "metadata": {},
   "outputs": [],
   "source": [
    "A = [1, 2, 3]\n",
    "B = [3, 6, 5]\n",
    "C = set(A + B)\n",
    "print(C)"
   ]
  },
  {
   "cell_type": "markdown",
   "metadata": {},
   "source": [
    "# Remoção de elementos da lista"
   ]
  },
  {
   "cell_type": "code",
   "execution_count": null,
   "metadata": {},
   "outputs": [],
   "source": [
    "L=[\"a\", \"b\", \"c\"]\n",
    "del L[1]\n",
    "L"
   ]
  },
  {
   "cell_type": "code",
   "execution_count": null,
   "metadata": {
    "collapsed": true
   },
   "outputs": [],
   "source": [
    "L=list(range(101))"
   ]
  },
  {
   "cell_type": "code",
   "execution_count": null,
   "metadata": {},
   "outputs": [],
   "source": [
    "L"
   ]
  },
  {
   "cell_type": "code",
   "execution_count": null,
   "metadata": {},
   "outputs": [],
   "source": [
    "del L[1:99]\n",
    "L"
   ]
  },
  {
   "cell_type": "markdown",
   "metadata": {},
   "source": [
    "# Listas como Filas\n",
    "## FIFO\n",
    "### Inclusões sempre realizadas no fim\n",
    "### Exclusões sempre realizadas no inicio"
   ]
  },
  {
   "cell_type": "markdown",
   "metadata": {},
   "source": [
    "### del?"
   ]
  },
  {
   "cell_type": "markdown",
   "metadata": {},
   "source": [
    "### pop\n",
    "#### fila.pop(0) retorna o valor do elemento retirando da fila. "
   ]
  },
  {
   "cell_type": "markdown",
   "metadata": {},
   "source": [
    "### E Pilhas?\n",
    "#### LIFO\n",
    "#### novos elementos são adicionados ao topo. A retirada de elementos também é feita pelo topo."
   ]
  },
  {
   "cell_type": "code",
   "execution_count": null,
   "metadata": {},
   "outputs": [],
   "source": [
    "#Simulação de uma fila de banco\n",
    "ultimo = 10\n",
    "fila = list(range(1,ultimo+1))\n",
    "while True:\n",
    "    print(\"\\nExistem %d clientes na fila\" %len(fila))\n",
    "    print(\"Fila atual: \", fila)\n",
    "    print(\"Digite F para adicionar um cliente ao fim da fila,\")\n",
    "    print(\"ou A para realizar o atendimento. S para sair\")\n",
    "    operacao = input(\"Operacao (F, A ou S): \")\n",
    "    if operacao == \"A\":\n",
    "        if(len(fila)>0):\n",
    "            atendido = fila.pop(0)\n",
    "            print(\"Cliente %d atendido \" %atendido)\n",
    "        else:\n",
    "            print(\"Fila vazia! Ninguem para atender\" )\n",
    "    elif operacao == \"F\":\n",
    "        ultimo+=1 #incrementa o ticket do novo cliente\n",
    "        fila.append(ultimo)\n",
    "    elif operacao == \"S\":\n",
    "        break\n",
    "    else:\n",
    "        print(\"Operacao invalida. Digite F, A ou S\")"
   ]
  },
  {
   "cell_type": "code",
   "execution_count": null,
   "metadata": {},
   "outputs": [],
   "source": [
    "#Pilha de pratos\n",
    "prato = 5\n",
    "pilha = list(range(1,prato+1))\n",
    "while True:\n",
    "    print(\"\\nExistem %d pratos na pilha \" %len(pilha))\n",
    "    print(\"Pilha atutal: \", pilha)\n",
    "    print(\"Digite E para empilhar um novo prato ou D para desempilhar. S para sair\")\n",
    "    operacao = input(\"Operacao (E, D ou S): \")\n",
    "    if operacao == \"D\":\n",
    "        if(len(pilha)>0):\n",
    "            lavado = pilha.pop(-1)\n",
    "            print(\"Prato %d lavado\" %lavado)\n",
    "        else:\n",
    "            print(\"Pilha vazia. Nada para lavar\")\n",
    "    elif operacao == \"E\":\n",
    "        prato+=1 #novo prato\n",
    "        pilha.append(prato)\n",
    "    elif operacao == \"S\":\n",
    "        break\n",
    "    else:\n",
    "        print(\"Operacao invalida. Digite E, D ou S\")\n",
    "    "
   ]
  },
  {
   "cell_type": "markdown",
   "metadata": {},
   "source": [
    "### Pesquisa em listas"
   ]
  },
  {
   "cell_type": "code",
   "execution_count": null,
   "metadata": {
    "collapsed": true
   },
   "outputs": [],
   "source": [
    "L=[15,7,27,39]\n",
    "p=int(input(\"Digite o valor a procurar\"))\n",
    "achou = False\n",
    "x = 0\n",
    "while x<len(L):\n",
    "    if L[x]==p:\n",
    "        achou = True\n",
    "        break\n",
    "    x+=1\n",
    "if achou:\n",
    "    print(\"%d Achado na posicao %d\" %(p,x))\n",
    "else:\n",
    "    print(\"%d nao encontradoo\" %p)"
   ]
  },
  {
   "cell_type": "code",
   "execution_count": null,
   "metadata": {
    "collapsed": true
   },
   "outputs": [],
   "source": [
    "L=[8,9,15]\n",
    "for e in L:\n",
    "    print(e)"
   ]
  },
  {
   "cell_type": "markdown",
   "metadata": {},
   "source": [
    "### Modifique o programa anterior que faz pesquisa em uma lista, utilizando for em vez de while"
   ]
  },
  {
   "cell_type": "code",
   "execution_count": null,
   "metadata": {
    "collapsed": true
   },
   "outputs": [],
   "source": []
  }
 ],
 "metadata": {
  "kernelspec": {
   "display_name": "Python 3",
   "language": "python",
   "name": "python3"
  },
  "language_info": {
   "codemirror_mode": {
    "name": "ipython",
    "version": 3
   },
   "file_extension": ".py",
   "mimetype": "text/x-python",
   "name": "python",
   "nbconvert_exporter": "python",
   "pygments_lexer": "ipython3",
   "version": "3.6.5"
  }
 },
 "nbformat": 4,
 "nbformat_minor": 2
}
