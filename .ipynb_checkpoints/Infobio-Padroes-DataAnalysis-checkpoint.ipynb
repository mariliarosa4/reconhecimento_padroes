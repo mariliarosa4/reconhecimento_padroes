{
 "cells": [
  {
   "cell_type": "code",
   "execution_count": 1,
   "metadata": {},
   "outputs": [
    {
     "ename": "ModuleNotFoundError",
     "evalue": "No module named 'numpy'",
     "output_type": "error",
     "traceback": [
      "\u001b[1;31m---------------------------------------------------------------------------\u001b[0m",
      "\u001b[1;31mModuleNotFoundError\u001b[0m                       Traceback (most recent call last)",
      "\u001b[1;32m<ipython-input-1-7defc41b6288>\u001b[0m in \u001b[0;36m<module>\u001b[1;34m()\u001b[0m\n\u001b[0;32m      1\u001b[0m \u001b[1;31m#Vamos usar a biblioteca numpy\u001b[0m\u001b[1;33m\u001b[0m\u001b[1;33m\u001b[0m\u001b[0m\n\u001b[1;32m----> 2\u001b[1;33m \u001b[1;32mfrom\u001b[0m \u001b[0mnumpy\u001b[0m \u001b[1;32mimport\u001b[0m \u001b[1;33m*\u001b[0m\u001b[1;33m\u001b[0m\u001b[0m\n\u001b[0m\u001b[0;32m      3\u001b[0m \u001b[1;32mimport\u001b[0m \u001b[0mnumpy\u001b[0m \u001b[1;32mas\u001b[0m \u001b[0mnp\u001b[0m\u001b[1;33m\u001b[0m\u001b[0m\n\u001b[0;32m      4\u001b[0m \u001b[1;33m\u001b[0m\u001b[0m\n\u001b[0;32m      5\u001b[0m \u001b[1;31m# E também vamos utilizar o Pandas\u001b[0m\u001b[1;33m\u001b[0m\u001b[1;33m\u001b[0m\u001b[0m\n",
      "\u001b[1;31mModuleNotFoundError\u001b[0m: No module named 'numpy'"
     ]
    }
   ],
   "source": [
    "#Vamos usar a biblioteca numpy\n",
    "from numpy import *\n",
    "import numpy as np\n",
    "\n",
    "# E também vamos utilizar o Pandas\n",
    "# Mas, antes de importá-la, é preciso instalá-la.\n",
    "# Para quem usa o anaconda: conda install pandas\n",
    "import pandas as pd \n",
    "\n",
    "# Vamos usar os datasets do sklearn\n",
    "from sklearn import datasets\n",
    "\n",
    "\n",
    "# Matplotlib\n",
    "import matplotlib.pyplot as plt\n",
    "\n"
   ]
  },
  {
   "cell_type": "code",
   "execution_count": null,
   "metadata": {
    "collapsed": true
   },
   "outputs": [],
   "source": [
    "# Vamos começar usando o dataset iris, disponível no sklearn\n",
    "from sklearn.datasets import load_iris\n",
    "iris = load_iris() "
   ]
  },
  {
   "cell_type": "code",
   "execution_count": null,
   "metadata": {},
   "outputs": [],
   "source": [
    "#Para utilizar este dataset com a biblitoeca Pandas, precisamos convertê-lo em um dataframe\n",
    "data1 = pd.DataFrame(data= np.c_[iris['data'], iris['target']],\n",
    "                     columns= iris['feature_names'] + ['target'])\n",
    "\n",
    "data1"
   ]
  },
  {
   "cell_type": "code",
   "execution_count": null,
   "metadata": {},
   "outputs": [],
   "source": [
    "# Alternativamente, podemos importar um arquivo csv ou arff, e transformá-lo em um dataframe\n",
    "# Note que é preciso saber onde está o dataset. Utilize os .arff disponíveis no moodle \n",
    "# e atualize os comandos a seguir para procurar no diretório em que você salvou.\n",
    "# \n",
    "# Uma dica: para saber qual o diretório atual:\n",
    "\n",
    "import os\n",
    "print(os.getcwd())"
   ]
  },
  {
   "cell_type": "code",
   "execution_count": null,
   "metadata": {},
   "outputs": [],
   "source": [
    "# Para importar um arquivo csv como um dataframe:\n",
    "# OBS: insira o caminho do seu arquivo\n",
    "iris = pd.read_csv(\"./iris.csv\")\n"
   ]
  },
  {
   "cell_type": "code",
   "execution_count": null,
   "metadata": {},
   "outputs": [],
   "source": [
    "#Imprime apenas os primeiros registros\n",
    "iris.head() #como argumento é possível passar um valor n, como sendo os n primeiros registros a mostrar"
   ]
  },
  {
   "cell_type": "code",
   "execution_count": null,
   "metadata": {},
   "outputs": [],
   "source": [
    "# Também é possível ver os últimos registros. O argumento n também é válido\n",
    "iris.tail()"
   ]
  },
  {
   "cell_type": "code",
   "execution_count": null,
   "metadata": {},
   "outputs": [],
   "source": [
    "#Para obter um reusmo informativo quanto aos registros e atributos do dataset\n",
    "iris.info()"
   ]
  },
  {
   "cell_type": "code",
   "execution_count": null,
   "metadata": {
    "scrolled": true
   },
   "outputs": [],
   "source": [
    "#para obter um resumo estatístico acerca dos dados\n",
    "iris.describe()\n",
    "\n",
    "# Esse comando retorna informação acerca dos atributos numéricos.\n",
    "# Para retornar informações a respeito de todos os tipos de atributos:\n",
    "iris.describe(include='all')"
   ]
  },
  {
   "cell_type": "code",
   "execution_count": null,
   "metadata": {},
   "outputs": [],
   "source": [
    "#Alguns gráficos\n",
    "iris.hist()"
   ]
  },
  {
   "cell_type": "code",
   "execution_count": null,
   "metadata": {},
   "outputs": [],
   "source": [
    "#Boxplot\n",
    "iris.boxplot()"
   ]
  },
  {
   "cell_type": "code",
   "execution_count": null,
   "metadata": {},
   "outputs": [],
   "source": [
    "print(iris.shape)\n",
    "print(iris.columns)\n",
    "print(iris.describe)"
   ]
  },
  {
   "cell_type": "code",
   "execution_count": null,
   "metadata": {},
   "outputs": [],
   "source": [
    "#Outras análises\n",
    "# É possível utilizar diferentes métodos de estatística descritiva\n",
    "print(iris.max())\n",
    "print(iris.mean())\n",
    "\n",
    "\n",
    "# outras funções:\n",
    "# count\n",
    "# sum\n",
    "# mean\n",
    "# mad\n",
    "# median\n",
    "# min\n",
    "# max\n",
    "# mode\n",
    "# abs\n",
    "# prod\n",
    "# std\n",
    "# var\n",
    "# sem\n",
    "# skew\n",
    "# kurt\n",
    "# quantile\n",
    "# cumsum\n",
    "# cumprod\n",
    "# cummax\n",
    "# cummin"
   ]
  },
  {
   "cell_type": "markdown",
   "metadata": {},
   "source": [
    "# Explorando demais atributos"
   ]
  },
  {
   "cell_type": "code",
   "execution_count": null,
   "metadata": {},
   "outputs": [],
   "source": [
    "# Aqui vimos opções de estatística descritiva para atributos com valores numéricos\n",
    "# Entretanto, datasets podem ter diferentes tipos de atributos\n",
    "# Para explorar os atributos de forma individual, podemos utilizar comandos de manipulação de listas.\n",
    "# Assim, podemos atribuir um atributo a uma variável, e manipular tal variável como uma lista:\n",
    "\n",
    "#Um atributo pode ser acessado referenciando seu nome:\n",
    "iris.sepal_length\n",
    "\n",
    "#Atribuindo um atributo a uma variável\n",
    "a = iris.sepal_length\n",
    "\n",
    "#Manipule essa variável como elementos de uma lista\n"
   ]
  },
  {
   "cell_type": "code",
   "execution_count": null,
   "metadata": {
    "collapsed": true
   },
   "outputs": [],
   "source": [
    "# Disponibilizo o notebook da disciplina de introdução à Liguagem Python, referente à aula de de Listas\n",
    "# Disponível no Mooodle com o nome Aula03_IntroPython_Infobio.ipynb\n",
    "\n",
    "# Manipule atributos do dataset iris, com base nos comandos disponíveis nessa aula"
   ]
  }
 ],
 "metadata": {
  "kernelspec": {
   "display_name": "Python 3",
   "language": "python",
   "name": "python3"
  },
  "language_info": {
   "codemirror_mode": {
    "name": "ipython",
    "version": 3
   },
   "file_extension": ".py",
   "mimetype": "text/x-python",
   "name": "python",
   "nbconvert_exporter": "python",
   "pygments_lexer": "ipython3",
   "version": "3.6.5"
  }
 },
 "nbformat": 4,
 "nbformat_minor": 2
}
